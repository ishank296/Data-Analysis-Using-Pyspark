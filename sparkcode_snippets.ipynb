{
  "nbformat": 4,
  "nbformat_minor": 0,
  "metadata": {
    "colab": {
      "name": "sparkcode_snippets.ipynb",
      "provenance": [],
      "collapsed_sections": [],
      "authorship_tag": "ABX9TyPTu5j0vfO2gxw5cd1v69Hw",
      "include_colab_link": true
    },
    "kernelspec": {
      "name": "python3",
      "display_name": "Python 3"
    },
    "language_info": {
      "name": "python"
    }
  },
  "cells": [
    {
      "cell_type": "markdown",
      "metadata": {
        "id": "view-in-github",
        "colab_type": "text"
      },
      "source": [
        "<a href=\"https://colab.research.google.com/github/ishank296/Data-Analysis-Using-Pyspark/blob/main/sparkcode_snippets.ipynb\" target=\"_parent\"><img src=\"https://colab.research.google.com/assets/colab-badge.svg\" alt=\"Open In Colab\"/></a>"
      ]
    },
    {
      "cell_type": "code",
      "metadata": {
        "id": "rJB4lyKthWtw"
      },
      "source": [
        "!apt-get install openjdk-8-jdk-headless -qq > /dev/null"
      ],
      "execution_count": null,
      "outputs": []
    },
    {
      "cell_type": "code",
      "metadata": {
        "id": "r_pZO0QQihI6"
      },
      "source": [
        "!wget -q https://mirrors.ocf.berkeley.edu/apache/spark/spark-3.1.2/spark-3.1.2-bin-hadoop3.2.tgz"
      ],
      "execution_count": null,
      "outputs": []
    },
    {
      "cell_type": "code",
      "metadata": {
        "id": "cKUWf6B6ik8l"
      },
      "source": [
        "!tar xf spark-3.1.2-bin-hadoop3.2.tgz"
      ],
      "execution_count": null,
      "outputs": []
    },
    {
      "cell_type": "code",
      "metadata": {
        "id": "ly9qqQzIinTS"
      },
      "source": [
        "!pip install -q findspark"
      ],
      "execution_count": null,
      "outputs": []
    },
    {
      "cell_type": "code",
      "metadata": {
        "id": "DEvUNlmhiqJ9"
      },
      "source": [
        "import os\n",
        "os.environ[\"JAVA_HOME\"] = \"/usr/lib/jvm/java-8-openjdk-amd64\"\n",
        "os.environ[\"SPARK_HOME\"] = \"/content/spark-3.1.2-bin-hadoop3.2\""
      ],
      "execution_count": null,
      "outputs": []
    },
    {
      "cell_type": "code",
      "metadata": {
        "id": "y0RwLGotissb"
      },
      "source": [
        "import findspark\n",
        "findspark.init()\n",
        "from pyspark.sql import SparkSession\n",
        "spark = SparkSession.builder.master(\"local[*]\").getOrCreate()"
      ],
      "execution_count": null,
      "outputs": []
    },
    {
      "cell_type": "code",
      "metadata": {
        "colab": {
          "base_uri": "https://localhost:8080/",
          "height": 216
        },
        "id": "RkblRGR-i9E8",
        "outputId": "39af99f5-1b7f-4cb0-c36c-08e85e2a3947"
      },
      "source": [
        "spark"
      ],
      "execution_count": null,
      "outputs": [
        {
          "output_type": "execute_result",
          "data": {
            "text/html": [
              "\n",
              "            <div>\n",
              "                <p><b>SparkSession - in-memory</b></p>\n",
              "                \n",
              "        <div>\n",
              "            <p><b>SparkContext</b></p>\n",
              "\n",
              "            <p><a href=\"http://43864b10ca37:4040\">Spark UI</a></p>\n",
              "\n",
              "            <dl>\n",
              "              <dt>Version</dt>\n",
              "                <dd><code>v3.1.2</code></dd>\n",
              "              <dt>Master</dt>\n",
              "                <dd><code>local[*]</code></dd>\n",
              "              <dt>AppName</dt>\n",
              "                <dd><code>pyspark-shell</code></dd>\n",
              "            </dl>\n",
              "        </div>\n",
              "        \n",
              "            </div>\n",
              "        "
            ],
            "text/plain": [
              "<pyspark.sql.session.SparkSession at 0x7f8153bbbc90>"
            ]
          },
          "metadata": {
            "tags": []
          },
          "execution_count": 7
        }
      ]
    },
    {
      "cell_type": "code",
      "metadata": {
        "id": "-zBeBmUFi_sY"
      },
      "source": [
        "from pyspark.sql.types import StructField,StringType,IntegerType,StructType,DoubleType\n",
        "from pyspark.sql.functions import col,lit,desc,spark_partition_id,row_number"
      ],
      "execution_count": 45,
      "outputs": []
    },
    {
      "cell_type": "code",
      "metadata": {
        "colab": {
          "base_uri": "https://localhost:8080/"
        },
        "id": "zquma2JIlR_K",
        "outputId": "594caf3e-1344-45c3-cf6c-9b5ca15099e0"
      },
      "source": [
        "!ls"
      ],
      "execution_count": null,
      "outputs": [
        {
          "output_type": "stream",
          "text": [
            "airports.dat.txt    sample_data\t\t       spark-3.1.2-bin-hadoop3.2.tgz\n",
            "airports_schma.txt  spark-3.1.2-bin-hadoop3.2\n"
          ],
          "name": "stdout"
        }
      ]
    },
    {
      "cell_type": "code",
      "metadata": {
        "colab": {
          "base_uri": "https://localhost:8080/"
        },
        "id": "Qb-TohyJlVi3",
        "outputId": "c04884d2-427b-426d-8bf6-d3437f01cdab"
      },
      "source": [
        "cat airports_schma.txt"
      ],
      "execution_count": null,
      "outputs": [
        {
          "output_type": "stream",
          "text": [
            "Airport_ID\tUnique OpenFlights identifier for this airport.\r\n",
            "Name\tName of airport. May or may not contain the City name.\r\n",
            "City\tMain city served by airport. May be spelled differently from Name.\r\n",
            "Country\tCountry or territory where airport is located. See countries.dat to cross-reference to ISO 3166-1 codes.\r\n",
            "IATA\t3-letter IATA code. Null if not assigned/unknown.\r\n",
            "ICAO\t4-letter ICAO code.Null if not assigned.\r\n",
            "Latitude\tDecimal degrees, usually to six significant digits. Negative is South, positive is North.\r\n",
            "Longitude\tDecimal degrees, usually to six significant digits. Negative is West, positive is East.\r\n",
            "Altitude\tIn feet.\r\n",
            "Timezone\tHours offset from UTC. Fractional hours are expressed as decimals, eg. India is 5.5.\r\n",
            "DST\tDaylight savings time. One of E (Europe), A (US/Canada), S (South America), O (Australia), Z (New Zealand), N (None) or U (Unknown). See also: Help: Time\r\n",
            "Tz\tdatabase time zone\tTimezone in \"tz\" (Olson) format, eg. \"America/Los_Angeles\".\r\n",
            "Type\tType of the airport. Value \"airport\" for air terminals, \"station\" for train stations, \"port\" for ferry terminals and \"unknown\" if not known. In airports.csv, only type=airport is included.\r\n",
            "Source\tSource of this data. \"OurAirports\" for data sourced from OurAirports, \"Legacy\" for old data not matched to OurAirports (mostly DAFIF), \"User\" for unverified user contributions. In airports.csv, only source=OurAirports is included."
          ],
          "name": "stdout"
        }
      ]
    },
    {
      "cell_type": "code",
      "metadata": {
        "colab": {
          "base_uri": "https://localhost:8080/"
        },
        "id": "lPVXjxmEpEoE",
        "outputId": "f53e40c8-49ae-4010-f1b8-8c161ddc36b5"
      },
      "source": [
        "field_names = list()\n",
        "with open('airports_schma.txt') as f:\n",
        "  for i in f.readlines():\n",
        "     field_names.append(i.split('\\t')[0].lower())\n",
        "field_names"
      ],
      "execution_count": null,
      "outputs": [
        {
          "output_type": "execute_result",
          "data": {
            "text/plain": [
              "['airport_id',\n",
              " 'name',\n",
              " 'city',\n",
              " 'country',\n",
              " 'iata',\n",
              " 'icao',\n",
              " 'latitude',\n",
              " 'longitude',\n",
              " 'altitude',\n",
              " 'timezone',\n",
              " 'dst',\n",
              " 'tz',\n",
              " 'type',\n",
              " 'source']"
            ]
          },
          "metadata": {
            "tags": []
          },
          "execution_count": 21
        }
      ]
    },
    {
      "cell_type": "code",
      "metadata": {
        "colab": {
          "base_uri": "https://localhost:8080/"
        },
        "id": "B_aqXlG4qnat",
        "outputId": "6f64fcc8-057a-44b6-c2da-e887595d9195"
      },
      "source": [
        "fields = list()\n",
        "for i in field_names:\n",
        "  curr_field= StructField(i,StringType(),True)\n",
        "  if i == \"longitude\" or i == \"latitude\" or i == \"altitude\":\n",
        "    curr_field = StructField(i,DoubleType(),True)\n",
        "  fields.append(curr_field)\n",
        "fields\n"
      ],
      "execution_count": null,
      "outputs": [
        {
          "output_type": "execute_result",
          "data": {
            "text/plain": [
              "[StructField(airport_id,StringType,true),\n",
              " StructField(name,StringType,true),\n",
              " StructField(city,StringType,true),\n",
              " StructField(country,StringType,true),\n",
              " StructField(iata,StringType,true),\n",
              " StructField(icao,StringType,true),\n",
              " StructField(latitude,DoubleType,true),\n",
              " StructField(longitude,DoubleType,true),\n",
              " StructField(altitude,DoubleType,true),\n",
              " StructField(timezone,StringType,true),\n",
              " StructField(dst,StringType,true),\n",
              " StructField(tz,StringType,true),\n",
              " StructField(type,StringType,true),\n",
              " StructField(source,StringType,true)]"
            ]
          },
          "metadata": {
            "tags": []
          },
          "execution_count": 25
        }
      ]
    },
    {
      "cell_type": "code",
      "metadata": {
        "colab": {
          "base_uri": "https://localhost:8080/"
        },
        "id": "UQlFK-zns4Gm",
        "outputId": "cc556c43-341e-4377-abe5-1c527c977ab2"
      },
      "source": [
        "airports_df = spark.read.format(\"csv\")\\\n",
        "              .schema(StructType(fields))\\\n",
        "              .load(\"airports.dat.txt\")\n",
        "airports_df.show(5)            "
      ],
      "execution_count": 39,
      "outputs": [
        {
          "output_type": "stream",
          "text": [
            "+----------+--------------------+------------+----------------+----+----+------------------+------------------+--------+--------+---+--------------------+-------+-----------+\n",
            "|airport_id|                name|        city|         country|iata|icao|          latitude|         longitude|altitude|timezone|dst|                  tz|   type|     source|\n",
            "+----------+--------------------+------------+----------------+----+----+------------------+------------------+--------+--------+---+--------------------+-------+-----------+\n",
            "|         1|      Goroka Airport|      Goroka|Papua New Guinea| GKA|AYGA|-6.081689834590001|     145.391998291|  5282.0|      10|  U|Pacific/Port_Moresby|airport|OurAirports|\n",
            "|         2|      Madang Airport|      Madang|Papua New Guinea| MAG|AYMD|    -5.20707988739|     145.789001465|    20.0|      10|  U|Pacific/Port_Moresby|airport|OurAirports|\n",
            "|         3|Mount Hagen Kagam...| Mount Hagen|Papua New Guinea| HGU|AYMH|-5.826789855957031|144.29600524902344|  5388.0|      10|  U|Pacific/Port_Moresby|airport|OurAirports|\n",
            "|         4|      Nadzab Airport|      Nadzab|Papua New Guinea| LAE|AYNZ|         -6.569803|        146.725977|   239.0|      10|  U|Pacific/Port_Moresby|airport|OurAirports|\n",
            "|         5|Port Moresby Jack...|Port Moresby|Papua New Guinea| POM|AYPY|-9.443380355834961|147.22000122070312|   146.0|      10|  U|Pacific/Port_Moresby|airport|OurAirports|\n",
            "+----------+--------------------+------------+----------------+----+----+------------------+------------------+--------+--------+---+--------------------+-------+-----------+\n",
            "only showing top 5 rows\n",
            "\n"
          ],
          "name": "stdout"
        }
      ]
    },
    {
      "cell_type": "code",
      "metadata": {
        "id": "E3sj4YcYuId1",
        "colab": {
          "base_uri": "https://localhost:8080/"
        },
        "outputId": "80464d53-838c-46c0-821a-0da734f29f08"
      },
      "source": [
        "airports_df.count()"
      ],
      "execution_count": 38,
      "outputs": [
        {
          "output_type": "execute_result",
          "data": {
            "text/plain": [
              "7184"
            ]
          },
          "metadata": {
            "tags": []
          },
          "execution_count": 38
        }
      ]
    },
    {
      "cell_type": "markdown",
      "metadata": {
        "id": "zbSUBDvLjSLS"
      },
      "source": [
        "**Airports at highest altitude**"
      ]
    },
    {
      "cell_type": "code",
      "metadata": {
        "colab": {
          "base_uri": "https://localhost:8080/"
        },
        "id": "T2cmQOxR3FxI",
        "outputId": "145946ec-fb28-41bb-a01b-5f290ff9fd4e"
      },
      "source": [
        "from pyspark.sql import Window\n",
        "windowspec = Window.orderBy(desc('altitude'))\n",
        "df1=airports_df.select(\"name\",\"city\",\"country\",\"altitude\")\\\n",
        "      .withColumn(\"rnk\",row_number().over(windowspec)).show(5)"
      ],
      "execution_count": 49,
      "outputs": [
        {
          "output_type": "stream",
          "text": [
            "+--------------------+---------+-------+--------+---+\n",
            "|                name|     city|country|altitude|rnk|\n",
            "+--------------------+---------+-------+--------+---+\n",
            "|Qamdo Bangda Airport|   Bangda|  China| 14219.0|  1|\n",
            "| Ngari Gunsa Airport|Shiquanhe|  China| 14022.0|  2|\n",
            "|El Alto Internati...|   La Paz|Bolivia| 13355.0|  3|\n",
            "|Capitan Nicolas R...|   Potosi|Bolivia| 12913.0|  4|\n",
            "|Yushu Batang Airport|    Yushu|  China| 12816.0|  5|\n",
            "+--------------------+---------+-------+--------+---+\n",
            "only showing top 5 rows\n",
            "\n"
          ],
          "name": "stdout"
        }
      ]
    }
  ]
}