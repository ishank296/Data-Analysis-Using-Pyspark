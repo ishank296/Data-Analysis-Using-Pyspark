{
  "nbformat": 4,
  "nbformat_minor": 0,
  "metadata": {
    "colab": {
      "name": "002_pyspark_ckbk_perpare_date_for_modelling.ipynb",
      "provenance": [],
      "collapsed_sections": [],
      "authorship_tag": "ABX9TyNaPjuhKaJG3XWAdQbYP2AY",
      "include_colab_link": true
    },
    "kernelspec": {
      "name": "python3",
      "display_name": "Python 3"
    },
    "language_info": {
      "name": "python"
    }
  },
  "cells": [
    {
      "cell_type": "markdown",
      "metadata": {
        "id": "view-in-github",
        "colab_type": "text"
      },
      "source": [
        "<a href=\"https://colab.research.google.com/github/ishank296/Data-Analysis-Using-Pyspark/blob/main/002_pyspark_ckbk_perpare_date_for_modelling.ipynb\" target=\"_parent\"><img src=\"https://colab.research.google.com/assets/colab-badge.svg\" alt=\"Open In Colab\"/></a>"
      ]
    },
    {
      "cell_type": "markdown",
      "source": [
        "- **Handling duplicates**\n",
        "- **Handling missing observations**\n",
        "- **Handling outliers**\n",
        "- **Exploring descriptive statistics**\n",
        "- **Computing correlations**\n",
        "- **Drawing histograms**\n",
        "- **Visualizing interactions between feature**"
      ],
      "metadata": {
        "id": "uaWmXiHeRba8"
      }
    },
    {
      "cell_type": "markdown",
      "source": [
        "1. Installing spark over colab and create SparkSession/SparkContext\n",
        "\n",
        "---\n",
        "\n",
        "\n",
        "\n",
        "\n"
      ],
      "metadata": {
        "id": "m0XiBmEGVDWn"
      }
    },
    {
      "cell_type": "code",
      "execution_count": 1,
      "metadata": {
        "id": "1tCLpfh5RZ2z"
      },
      "outputs": [],
      "source": [
        "!apt-get install openjdk-8-jdk-headless -qq > /dev/null"
      ]
    },
    {
      "cell_type": "code",
      "source": [
        "!wget -q https://dlcdn.apache.org/spark/spark-3.3.0/spark-3.3.0-bin-hadoop3.tgz"
      ],
      "metadata": {
        "id": "OLwd00CHVOFP"
      },
      "execution_count": 5,
      "outputs": []
    },
    {
      "cell_type": "code",
      "source": [
        "!tar xf spark-3.3.0-bin-hadoop3.tgz"
      ],
      "metadata": {
        "id": "Xj9QX7iUVZA-"
      },
      "execution_count": 7,
      "outputs": []
    },
    {
      "cell_type": "code",
      "source": [
        "!pip install -q findspark"
      ],
      "metadata": {
        "id": "63HKGu7DVe6a"
      },
      "execution_count": 9,
      "outputs": []
    },
    {
      "cell_type": "code",
      "source": [
        "import os\n",
        "os.environ[\"JAVA_HOME\"] = \"/usr/lib/jvm/java-8-openjdk-amd64\"\n",
        "os.environ[\"SPARK_HOME\"] = \"/content/spark-3.3.0-bin-hadoop3\""
      ],
      "metadata": {
        "id": "hs30q5x_V3_7"
      },
      "execution_count": 11,
      "outputs": []
    },
    {
      "cell_type": "code",
      "source": [
        "import findspark\n",
        "findspark.init()\n",
        "from pyspark.sql import SparkSession\n",
        "spark = SparkSession.builder.master(\"local[*]\").getOrCreate()"
      ],
      "metadata": {
        "id": "2Cv6RbrBWEEx"
      },
      "execution_count": 22,
      "outputs": []
    },
    {
      "cell_type": "code",
      "source": [
        "spark"
      ],
      "metadata": {
        "colab": {
          "base_uri": "https://localhost:8080/",
          "height": 219
        },
        "id": "2ExW5LC5WjoV",
        "outputId": "622483ba-9968-4482-ea46-3d57ae676689"
      },
      "execution_count": 14,
      "outputs": [
        {
          "output_type": "execute_result",
          "data": {
            "text/plain": [
              "<pyspark.sql.session.SparkSession at 0x7f341d84c190>"
            ],
            "text/html": [
              "\n",
              "            <div>\n",
              "                <p><b>SparkSession - in-memory</b></p>\n",
              "                \n",
              "        <div>\n",
              "            <p><b>SparkContext</b></p>\n",
              "\n",
              "            <p><a href=\"http://2456b36990e0:4040\">Spark UI</a></p>\n",
              "\n",
              "            <dl>\n",
              "              <dt>Version</dt>\n",
              "                <dd><code>v3.3.0</code></dd>\n",
              "              <dt>Master</dt>\n",
              "                <dd><code>local[*]</code></dd>\n",
              "              <dt>AppName</dt>\n",
              "                <dd><code>pyspark-shell</code></dd>\n",
              "            </dl>\n",
              "        </div>\n",
              "        \n",
              "            </div>\n",
              "        "
            ]
          },
          "metadata": {},
          "execution_count": 14
        }
      ]
    },
    {
      "cell_type": "code",
      "source": [
        "sc=spark.sparkContext\n",
        "sc"
      ],
      "metadata": {
        "colab": {
          "base_uri": "https://localhost:8080/",
          "height": 196
        },
        "id": "vHKsaQz6WmS-",
        "outputId": "faafc33a-dc1c-4526-d9cf-f307e42c529d"
      },
      "execution_count": 16,
      "outputs": [
        {
          "output_type": "execute_result",
          "data": {
            "text/plain": [
              "<SparkContext master=local[*] appName=pyspark-shell>"
            ],
            "text/html": [
              "\n",
              "        <div>\n",
              "            <p><b>SparkContext</b></p>\n",
              "\n",
              "            <p><a href=\"http://2456b36990e0:4040\">Spark UI</a></p>\n",
              "\n",
              "            <dl>\n",
              "              <dt>Version</dt>\n",
              "                <dd><code>v3.3.0</code></dd>\n",
              "              <dt>Master</dt>\n",
              "                <dd><code>local[*]</code></dd>\n",
              "              <dt>AppName</dt>\n",
              "                <dd><code>pyspark-shell</code></dd>\n",
              "            </dl>\n",
              "        </div>\n",
              "        "
            ]
          },
          "metadata": {},
          "execution_count": 16
        }
      ]
    },
    {
      "cell_type": "markdown",
      "source": [
        "2. Create DataFrame from Sample data"
      ],
      "metadata": {
        "id": "Eje91Yr1W-Be"
      }
    },
    {
      "cell_type": "code",
      "source": [
        "dirty_data = spark.createDataFrame([\n",
        " (1,'Porsche','Boxster S','Turbo',2.5,4,22,None)\n",
        " , (2,'Aston Martin','Vanquish','Aspirated',6.0,12,16,None)\n",
        " , (3,'Porsche','911 Carrera 4S Cabriolet','Turbo',3.0,6,24,None)\n",
        " , (3,'General Motors','SPARK ACTIV','Aspirated',1.4,None,32,None)\n",
        " , (5,'BMW','COOPER S HARDTOP 2 DOOR','Turbo',2.0,4,26,None)\n",
        " , (6,'BMW','330i','Turbo',2.0,None,27,None)\n",
        " , (7,'BMW','440i Coupe','Turbo',3.0,6,23,None)\n",
        " , (8,'BMW','440i Coupe','Turbo',3.0,6,23,None)\n",
        " , (9,'Mercedes-Benz',None,None,None,None,27,None)\n",
        " , (10,'Mercedes-Benz','CLS 550','Turbo',4.7,8,21,79231)\n",
        " , (11,'Volkswagen','GTI','Turbo',2.0,4,None,None)\n",
        " , (12,'Ford Motor Company','FUSION AWD','Turbo',2.7,6,20,None)\n",
        " , (13,'Nissan','Q50 AWD RED SPORT','Turbo',3.0,6,22,None)\n",
        " , (14,'Nissan','Q70 AWD','Aspirated',5.6,8,18,None)\n",
        " , (15,'Kia','Stinger RWD','Turbo',2.0,4,25,None)\n",
        " , (16,'Toyota','CAMRY HYBRID LE','Aspirated',2.5,4,46,None)\n",
        " , (16,'Toyota','CAMRY HYBRID LE','Aspirated',2.5,4,46,None)\n",
        " , (18,'FCA US LLC','300','Aspirated',3.6,6,23,None)\n",
        " , (19,'Hyundai','G80 AWD','Turbo',3.3,6,20,None)\n",
        " , (20,'Hyundai','G80 AWD','Turbo',3.3,6,20,None)\n",
        ", (21,'BMW','X5 M','Turbo',4.4,8,18,121231)\n",
        " , (22,'GE','K1500 SUBURBAN 4WD','Aspirated',5.3,8,18,None)\n",
        " ], ['Id','Manufacturer','Model','EngineType','Displacement',\n",
        " 'Cylinders','FuelEconomy','MSRP'])"
      ],
      "metadata": {
        "id": "1lWvEfnEWoqL"
      },
      "execution_count": 17,
      "outputs": []
    },
    {
      "cell_type": "code",
      "source": [
        "dirty_data.printSchema()"
      ],
      "metadata": {
        "colab": {
          "base_uri": "https://localhost:8080/"
        },
        "id": "ymjsan1yXNUH",
        "outputId": "124fab02-7b20-438c-e73c-d10f4120e798"
      },
      "execution_count": 18,
      "outputs": [
        {
          "output_type": "stream",
          "name": "stdout",
          "text": [
            "root\n",
            " |-- Id: long (nullable = true)\n",
            " |-- Manufacturer: string (nullable = true)\n",
            " |-- Model: string (nullable = true)\n",
            " |-- EngineType: string (nullable = true)\n",
            " |-- Displacement: double (nullable = true)\n",
            " |-- Cylinders: long (nullable = true)\n",
            " |-- FuelEconomy: long (nullable = true)\n",
            " |-- MSRP: long (nullable = true)\n",
            "\n"
          ]
        }
      ]
    },
    {
      "cell_type": "markdown",
      "source": [
        "## **Handling duplicates**"
      ],
      "metadata": {
        "id": "A2jL72eNXXnq"
      }
    },
    {
      "cell_type": "markdown",
      "source": [
        "1. Check whether any rows are duplicated, as follows:"
      ],
      "metadata": {
        "id": "ZpqUmPNuXp3f"
      }
    },
    {
      "cell_type": "code",
      "source": [
        "dirty_data.count(),dirty_data.distinct().count()"
      ],
      "metadata": {
        "colab": {
          "base_uri": "https://localhost:8080/"
        },
        "id": "9WHhiO9IXP5N",
        "outputId": "6919f843-5322-4eca-8705-e12296536cc8"
      },
      "execution_count": 19,
      "outputs": [
        {
          "output_type": "execute_result",
          "data": {
            "text/plain": [
              "(22, 21)"
            ]
          },
          "metadata": {},
          "execution_count": 19
        }
      ]
    },
    {
      "cell_type": "markdown",
      "source": [
        "2. Remove Duplicates"
      ],
      "metadata": {
        "id": "LpnIPlOQX55V"
      }
    },
    {
      "cell_type": "code",
      "source": [
        "full_removed = dirty_data.dropDuplicates()\n",
        "full_removed.count()"
      ],
      "metadata": {
        "colab": {
          "base_uri": "https://localhost:8080/"
        },
        "id": "8Pl1ibFGXz6E",
        "outputId": "6094913b-5242-4114-ef3d-4ee6652ac67a"
      },
      "execution_count": 20,
      "outputs": [
        {
          "output_type": "execute_result",
          "data": {
            "text/plain": [
              "21"
            ]
          },
          "metadata": {},
          "execution_count": 20
        }
      ]
    },
    {
      "cell_type": "code",
      "source": [
        "dirty_data.groupby(dirty_data.columns)\\\n",
        "          .count()\\\n",
        "          .filter('count>1')\\\n",
        "          .show()"
      ],
      "metadata": {
        "colab": {
          "base_uri": "https://localhost:8080/"
        },
        "id": "vNB-oiY2YGPN",
        "outputId": "1bb33453-b6af-4aa5-bcd5-bf31d6a33949"
      },
      "execution_count": 21,
      "outputs": [
        {
          "output_type": "stream",
          "name": "stdout",
          "text": [
            "+---+------------+---------------+----------+------------+---------+-----------+----+-----+\n",
            "| Id|Manufacturer|          Model|EngineType|Displacement|Cylinders|FuelEconomy|MSRP|count|\n",
            "+---+------------+---------------+----------+------------+---------+-----------+----+-----+\n",
            "| 16|      Toyota|CAMRY HYBRID LE| Aspirated|         2.5|        4|         46|null|    2|\n",
            "+---+------------+---------------+----------+------------+---------+-----------+----+-----+\n",
            "\n"
          ]
        }
      ]
    },
    {
      "cell_type": "markdown",
      "source": [
        "3. Duplicates rows with different IDs"
      ],
      "metadata": {
        "id": "ajM8mBPqZKkG"
      }
    },
    {
      "cell_type": "code",
      "source": [
        "full_removed.groupBy([column for column in dirty_data.columns if column!='Id'])\\\n",
        "          .count()\\\n",
        "          .filter('count>1')\\\n",
        "          .show()"
      ],
      "metadata": {
        "colab": {
          "base_uri": "https://localhost:8080/"
        },
        "id": "XCDS3eEvYaOI",
        "outputId": "1f0db6f8-5a3e-4cd5-8ad7-cbd6a45960bd"
      },
      "execution_count": 24,
      "outputs": [
        {
          "output_type": "stream",
          "name": "stdout",
          "text": [
            "+------------+----------+----------+------------+---------+-----------+----+-----+\n",
            "|Manufacturer|     Model|EngineType|Displacement|Cylinders|FuelEconomy|MSRP|count|\n",
            "+------------+----------+----------+------------+---------+-----------+----+-----+\n",
            "|         BMW|440i Coupe|     Turbo|         3.0|        6|         23|null|    2|\n",
            "|     Hyundai|   G80 AWD|     Turbo|         3.3|        6|         20|null|    2|\n",
            "+------------+----------+----------+------------+---------+-----------+----+-----+\n",
            "\n"
          ]
        }
      ]
    },
    {
      "cell_type": "code",
      "source": [
        "no_ids = full_removed.drop('Id')\n",
        "no_ids.distinct().count(),full_removed.count()"
      ],
      "metadata": {
        "colab": {
          "base_uri": "https://localhost:8080/"
        },
        "id": "23XYdSLwZdzK",
        "outputId": "d613ad71-fb41-4ceb-ae8b-d3e6694bc20a"
      },
      "execution_count": 25,
      "outputs": [
        {
          "output_type": "execute_result",
          "data": {
            "text/plain": [
              "(19, 21)"
            ]
          },
          "metadata": {},
          "execution_count": 25
        }
      ]
    },
    {
      "cell_type": "code",
      "source": [
        "id_removed = full_removed.dropDuplicates([col for col in full_removed.columns if col!='Id'])\n",
        "id_removed.count()"
      ],
      "metadata": {
        "colab": {
          "base_uri": "https://localhost:8080/"
        },
        "id": "Z007oVQ2ah_A",
        "outputId": "caba4220-0897-41f6-c762-dd3b832dedd4"
      },
      "execution_count": 26,
      "outputs": [
        {
          "output_type": "execute_result",
          "data": {
            "text/plain": [
              "19"
            ]
          },
          "metadata": {},
          "execution_count": 26
        }
      ]
    },
    {
      "cell_type": "markdown",
      "source": [
        "4. ID Collisions"
      ],
      "metadata": {
        "id": "7ZrjeoRDa_m5"
      }
    },
    {
      "cell_type": "code",
      "source": [
        "from pyspark.sql.functions import count,countDistinct\n",
        "id_removed.agg(\n",
        "    count('Id').alias('countOfIds'),\n",
        "    countDistinct('Id').alias('countOfDistinctIds')\n",
        ").show()"
      ],
      "metadata": {
        "colab": {
          "base_uri": "https://localhost:8080/"
        },
        "id": "l08_3HKGawh7",
        "outputId": "8a029b30-1cf6-4440-f105-9e944d8081f1"
      },
      "execution_count": 28,
      "outputs": [
        {
          "output_type": "stream",
          "name": "stdout",
          "text": [
            "+----------+------------------+\n",
            "|countOfIds|countOfDistinctIds|\n",
            "+----------+------------------+\n",
            "|        19|                18|\n",
            "+----------+------------------+\n",
            "\n"
          ]
        }
      ]
    },
    {
      "cell_type": "code",
      "source": [
        ""
      ],
      "metadata": {
        "id": "DkElDEL7be1r"
      },
      "execution_count": null,
      "outputs": []
    }
  ]
}