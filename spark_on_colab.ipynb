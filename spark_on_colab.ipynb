{
  "nbformat": 4,
  "nbformat_minor": 0,
  "metadata": {
    "colab": {
      "name": "spark_on_colab.ipynb",
      "provenance": [],
      "collapsed_sections": [],
      "include_colab_link": true
    },
    "kernelspec": {
      "display_name": "Python 3",
      "language": "python",
      "name": "python3"
    },
    "language_info": {
      "codemirror_mode": {
        "name": "ipython",
        "version": 3
      },
      "file_extension": ".py",
      "mimetype": "text/x-python",
      "name": "python",
      "nbconvert_exporter": "python",
      "pygments_lexer": "ipython3",
      "version": "3.8.5"
    }
  },
  "cells": [
    {
      "cell_type": "markdown",
      "metadata": {
        "id": "view-in-github",
        "colab_type": "text"
      },
      "source": [
        "<a href=\"https://colab.research.google.com/github/ishank296/Data-Analysis-Using-Pyspark/blob/main/spark_on_colab.ipynb\" target=\"_parent\"><img src=\"https://colab.research.google.com/assets/colab-badge.svg\" alt=\"Open In Colab\"/></a>"
      ]
    },
    {
      "cell_type": "code",
      "metadata": {
        "id": "_SDtgwHfeVO8"
      },
      "source": [
        "!apt-get install openjdk-8-jdk-headless -qq > /dev/null"
      ],
      "execution_count": null,
      "outputs": []
    },
    {
      "cell_type": "code",
      "metadata": {
        "id": "HXpNmZHCejG3"
      },
      "source": [
        "!wget -q https://mirrors.ocf.berkeley.edu/apache/spark/spark-3.1.2/spark-3.1.2-bin-hadoop3.2.tgz"
      ],
      "execution_count": null,
      "outputs": []
    },
    {
      "cell_type": "code",
      "metadata": {
        "colab": {
          "base_uri": "https://localhost:8080/"
        },
        "id": "LWoBzez-epoQ",
        "outputId": "065c1ded-b9f8-44ef-a3ce-42601c0e090d"
      },
      "source": [
        "!ls"
      ],
      "execution_count": null,
      "outputs": [
        {
          "output_type": "stream",
          "text": [
            "sample_data  spark-3.1.2-bin-hadoop3.2.tgz\n"
          ],
          "name": "stdout"
        }
      ]
    },
    {
      "cell_type": "code",
      "metadata": {
        "id": "_A95ed5Jg938"
      },
      "source": [
        "!tar xf spark-3.1.2-bin-hadoop3.2.tgz"
      ],
      "execution_count": null,
      "outputs": []
    },
    {
      "cell_type": "code",
      "metadata": {
        "id": "3N6glQAcgTYL"
      },
      "source": [
        "!pip install -q findspark"
      ],
      "execution_count": null,
      "outputs": []
    },
    {
      "cell_type": "code",
      "metadata": {
        "id": "PSp2X_qFgYsL"
      },
      "source": [
        "import os\n",
        "os.environ[\"JAVA_HOME\"] = \"/usr/lib/jvm/java-8-openjdk-amd64\"\n",
        "os.environ[\"SPARK_HOME\"] = \"/content/spark-3.1.2-bin-hadoop3.2\""
      ],
      "execution_count": null,
      "outputs": []
    },
    {
      "cell_type": "code",
      "metadata": {
        "id": "VvYSEhuthXz2"
      },
      "source": [
        "import findspark\n",
        "findspark.init()\n",
        "from pyspark.sql import SparkSession\n",
        "spark = SparkSession.builder.master(\"local[*]\").getOrCreate()"
      ],
      "execution_count": null,
      "outputs": []
    },
    {
      "cell_type": "code",
      "metadata": {
        "id": "E5OTmI95zahL"
      },
      "source": [
        "from pyspark.sql.functions import col,count,desc,struct,max,lower\n",
        "from matplotlib import pyplot as plt"
      ],
      "execution_count": null,
      "outputs": []
    },
    {
      "cell_type": "code",
      "metadata": {
        "colab": {
          "base_uri": "https://localhost:8080/",
          "height": 216
        },
        "id": "i8zpGFvPhisY",
        "outputId": "80af50d4-90ee-463d-b00e-a1a5ee656f06"
      },
      "source": [
        "spark"
      ],
      "execution_count": null,
      "outputs": [
        {
          "output_type": "execute_result",
          "data": {
            "text/html": [
              "\n",
              "            <div>\n",
              "                <p><b>SparkSession - in-memory</b></p>\n",
              "                \n",
              "        <div>\n",
              "            <p><b>SparkContext</b></p>\n",
              "\n",
              "            <p><a href=\"http://6b7e475f7843:4040\">Spark UI</a></p>\n",
              "\n",
              "            <dl>\n",
              "              <dt>Version</dt>\n",
              "                <dd><code>v3.1.2</code></dd>\n",
              "              <dt>Master</dt>\n",
              "                <dd><code>local[*]</code></dd>\n",
              "              <dt>AppName</dt>\n",
              "                <dd><code>pyspark-shell</code></dd>\n",
              "            </dl>\n",
              "        </div>\n",
              "        \n",
              "            </div>\n",
              "        "
            ],
            "text/plain": [
              "<pyspark.sql.session.SparkSession at 0x7f8b5d12a0d0>"
            ]
          },
          "metadata": {
            "tags": []
          },
          "execution_count": 8
        }
      ]
    },
    {
      "cell_type": "code",
      "metadata": {
        "colab": {
          "base_uri": "https://localhost:8080/"
        },
        "id": "Vg-LBFGU2k4p",
        "outputId": "1fe2a18b-50ca-44f2-995b-8725da3737f7"
      },
      "source": [
        "from google.colab import drive\n",
        "drive.mount('drive')"
      ],
      "execution_count": null,
      "outputs": [
        {
          "output_type": "stream",
          "text": [
            "Mounted at drive\n"
          ],
          "name": "stdout"
        }
      ]
    },
    {
      "cell_type": "code",
      "metadata": {
        "colab": {
          "base_uri": "https://localhost:8080/"
        },
        "id": "EWve_qvC2yAO",
        "outputId": "4279dbe7-5634-4582-d511-dac2a0dea9c6"
      },
      "source": [
        "!ls drive/MyDrive/data-analysis-using-spark/"
      ],
      "execution_count": null,
      "outputs": [
        {
          "output_type": "stream",
          "text": [
            "genre.csv  listenings.csv\n"
          ],
          "name": "stdout"
        }
      ]
    },
    {
      "cell_type": "code",
      "metadata": {
        "id": "1tTGMtPiqNIR"
      },
      "source": [
        "genre_dataframe=spark.read.format(\"csv\")\\\n",
        "  .option('inferSchema','true')\\\n",
        "  .option('header','true')\\\n",
        "  .load(\"drive/MyDrive/data-analysis-using-spark/genre.csv\")"
      ],
      "execution_count": null,
      "outputs": []
    },
    {
      "cell_type": "code",
      "metadata": {
        "colab": {
          "base_uri": "https://localhost:8080/"
        },
        "id": "_lRsOL6Mq9Ft",
        "outputId": "25a16d6a-1e66-456c-bc2e-a2483e21e062"
      },
      "source": [
        "genre_dataframe.printSchema()"
      ],
      "execution_count": null,
      "outputs": [
        {
          "output_type": "stream",
          "text": [
            "root\n",
            " |-- artist: string (nullable = true)\n",
            " |-- genre: string (nullable = true)\n",
            "\n"
          ],
          "name": "stdout"
        }
      ]
    },
    {
      "cell_type": "code",
      "metadata": {
        "id": "zz_stLeL6oTu"
      },
      "source": [
        "listenings_dataframe=spark.read.format(\"csv\")\\\n",
        "    .option('inferschema','true')\\\n",
        "    .option('header','true')\\\n",
        "    .load(\"drive/MyDrive/data-analysis-using-spark/listenings.csv\")"
      ],
      "execution_count": null,
      "outputs": []
    },
    {
      "cell_type": "code",
      "metadata": {
        "colab": {
          "base_uri": "https://localhost:8080/"
        },
        "id": "BaXcTLGJrBaL",
        "outputId": "dd667be6-f74c-4d61-aef0-c51c07f6b172"
      },
      "source": [
        "genre_dataframe.show(5)"
      ],
      "execution_count": null,
      "outputs": [
        {
          "output_type": "stream",
          "text": [
            "+----------+-----+\n",
            "|    artist|genre|\n",
            "+----------+-----+\n",
            "|      Muse| rock|\n",
            "|   Nirvana| rock|\n",
            "|  Bon Jovi| rock|\n",
            "|The Police| rock|\n",
            "|      Kiss| rock|\n",
            "+----------+-----+\n",
            "only showing top 5 rows\n",
            "\n"
          ],
          "name": "stdout"
        }
      ]
    },
    {
      "cell_type": "code",
      "metadata": {
        "colab": {
          "base_uri": "https://localhost:8080/"
        },
        "id": "6QUldgSpFuSu",
        "outputId": "7d4cb984-e61a-4782-fcf7-de84172bf5a5"
      },
      "source": [
        "listenings_dataframe.printSchema()"
      ],
      "execution_count": null,
      "outputs": [
        {
          "output_type": "stream",
          "text": [
            "root\n",
            " |-- user_id: string (nullable = true)\n",
            " |-- date: long (nullable = true)\n",
            " |-- track: string (nullable = true)\n",
            " |-- artist: string (nullable = true)\n",
            " |-- album: string (nullable = true)\n",
            "\n"
          ],
          "name": "stdout"
        }
      ]
    },
    {
      "cell_type": "code",
      "metadata": {
        "colab": {
          "base_uri": "https://localhost:8080/"
        },
        "id": "89_ARsL7F_Lm",
        "outputId": "a9885367-9427-4c77-d3b6-042da3415909"
      },
      "source": [
        "listenings_dataframe.show(5)"
      ],
      "execution_count": null,
      "outputs": [
        {
          "output_type": "stream",
          "text": [
            "+-----------+-------------+--------------------+---------+-----------------+\n",
            "|    user_id|         date|               track|   artist|            album|\n",
            "+-----------+-------------+--------------------+---------+-----------------+\n",
            "|000Silenced|1299680100000|           Price Tag| Jessie J|      Who You Are|\n",
            "|000Silenced|1299679920000|Price Tag (Acoust...| Jessie J|        Price Tag|\n",
            "|000Silenced|1299679440000|Be Mine! (Ballad ...|    Robyn|         Be Mine!|\n",
            "|000Silenced|1299679200000|            Acapella|    Kelis|         Acapella|\n",
            "|000Silenced|1299675660000|   I'm Not Invisible|The Tease|I'm Not Invisible|\n",
            "+-----------+-------------+--------------------+---------+-----------------+\n",
            "only showing top 5 rows\n",
            "\n"
          ],
          "name": "stdout"
        }
      ]
    },
    {
      "cell_type": "code",
      "metadata": {
        "colab": {
          "base_uri": "https://localhost:8080/"
        },
        "id": "Q1sdXodNuWuT",
        "outputId": "a9f555ff-2b17-4fb2-ad95-2473dd562ba5"
      },
      "source": [
        "listenings_dataframe.count()"
      ],
      "execution_count": null,
      "outputs": [
        {
          "output_type": "execute_result",
          "data": {
            "text/plain": [
              "14650594"
            ]
          },
          "metadata": {
            "tags": []
          },
          "execution_count": 17
        }
      ]
    },
    {
      "cell_type": "code",
      "metadata": {
        "id": "uVPSDQiptbxy"
      },
      "source": [
        "listenings_dataframe = listenings_dataframe.drop('date')"
      ],
      "execution_count": null,
      "outputs": []
    },
    {
      "cell_type": "code",
      "metadata": {
        "id": "CyyvACw9uOBc"
      },
      "source": [
        "listenings_dataframe = listenings_dataframe.na.drop()"
      ],
      "execution_count": null,
      "outputs": []
    },
    {
      "cell_type": "code",
      "metadata": {
        "colab": {
          "base_uri": "https://localhost:8080/"
        },
        "id": "R7QJg5t7umJb",
        "outputId": "a0b95c81-8e54-4a39-c505-982f2c73ec92"
      },
      "source": [
        "listenings_dataframe.count()"
      ],
      "execution_count": null,
      "outputs": [
        {
          "output_type": "execute_result",
          "data": {
            "text/plain": [
              "13758905"
            ]
          },
          "metadata": {
            "tags": []
          },
          "execution_count": 20
        }
      ]
    },
    {
      "cell_type": "code",
      "metadata": {
        "colab": {
          "base_uri": "https://localhost:8080/"
        },
        "id": "aIW-rKr0uwXi",
        "outputId": "eb29215e-da95-4309-8e1d-2ee130a4e046"
      },
      "source": [
        "listenings_dataframe.show(5)"
      ],
      "execution_count": null,
      "outputs": [
        {
          "output_type": "stream",
          "text": [
            "+-----------+--------------------+---------+-----------------+\n",
            "|    user_id|               track|   artist|            album|\n",
            "+-----------+--------------------+---------+-----------------+\n",
            "|000Silenced|           Price Tag| Jessie J|      Who You Are|\n",
            "|000Silenced|Price Tag (Acoust...| Jessie J|        Price Tag|\n",
            "|000Silenced|Be Mine! (Ballad ...|    Robyn|         Be Mine!|\n",
            "|000Silenced|            Acapella|    Kelis|         Acapella|\n",
            "|000Silenced|   I'm Not Invisible|The Tease|I'm Not Invisible|\n",
            "+-----------+--------------------+---------+-----------------+\n",
            "only showing top 5 rows\n",
            "\n"
          ],
          "name": "stdout"
        }
      ]
    },
    {
      "cell_type": "code",
      "metadata": {
        "id": "0bIxyhrLvQAy"
      },
      "source": [
        "shape = (listenings_dataframe.count(),len(listenings_dataframe.columns))"
      ],
      "execution_count": null,
      "outputs": []
    },
    {
      "cell_type": "code",
      "metadata": {
        "colab": {
          "base_uri": "https://localhost:8080/"
        },
        "id": "447-pCozvdF8",
        "outputId": "37000709-9ff6-48f0-84aa-ebb1ae6cf4c3"
      },
      "source": [
        "shape"
      ],
      "execution_count": null,
      "outputs": [
        {
          "output_type": "execute_result",
          "data": {
            "text/plain": [
              "(13758905, 4)"
            ]
          },
          "metadata": {
            "tags": []
          },
          "execution_count": 23
        }
      ]
    },
    {
      "cell_type": "markdown",
      "metadata": {
        "id": "ltybn0xGvh5Y"
      },
      "source": [
        "**Query #0:** select two columns track and artist"
      ]
    },
    {
      "cell_type": "code",
      "metadata": {
        "colab": {
          "base_uri": "https://localhost:8080/"
        },
        "id": "YLv_OTdWvvXa",
        "outputId": "ab8cb3c1-42f6-4abd-b71f-29e81771f130"
      },
      "source": [
        "q0=listenings_dataframe.select('track','artist')\n",
        "q0.show(5)"
      ],
      "execution_count": null,
      "outputs": [
        {
          "output_type": "stream",
          "text": [
            "+--------------------+---------+\n",
            "|               track|   artist|\n",
            "+--------------------+---------+\n",
            "|           Price Tag| Jessie J|\n",
            "|Price Tag (Acoust...| Jessie J|\n",
            "|Be Mine! (Ballad ...|    Robyn|\n",
            "|            Acapella|    Kelis|\n",
            "|   I'm Not Invisible|The Tease|\n",
            "+--------------------+---------+\n",
            "only showing top 5 rows\n",
            "\n"
          ],
          "name": "stdout"
        }
      ]
    },
    {
      "cell_type": "markdown",
      "metadata": {
        "id": "MPPsvW-WwiZq"
      },
      "source": [
        "**Query #1:** Find all records of those users who have listened to ***Rihanaa***"
      ]
    },
    {
      "cell_type": "code",
      "metadata": {
        "colab": {
          "base_uri": "https://localhost:8080/"
        },
        "id": "24g_NW7YwyTJ",
        "outputId": "1c3f193c-8fb6-41d7-ae6e-2e0812373f8d"
      },
      "source": [
        "q1 = listenings_dataframe.filter(listenings_dataframe.artist=='Rihanna')\n",
        "q1.show(10)"
      ],
      "execution_count": null,
      "outputs": [
        {
          "output_type": "stream",
          "text": [
            "+-----------+--------------------+-------+--------------------+\n",
            "|    user_id|               track| artist|               album|\n",
            "+-----------+--------------------+-------+--------------------+\n",
            "|000Silenced|Don't Stop The Mu...|Rihanna|Addicted 2 Bassli...|\n",
            "|000Silenced|           Disturbia|Rihanna|Good Girl Gone Ba...|\n",
            "|00williamsl|   Hatin On The Club|Rihanna|              Random|\n",
            "|00williamsl|   Hatin On The Club|Rihanna|              Random|\n",
            "|00williamsl|         Complicated|Rihanna|                Loud|\n",
            "|00williamsl|What's My Name (f...|Rihanna|                Loud|\n",
            "|00williamsl|Kanye West feat R...|Rihanna|                Loud|\n",
            "|    0502008|Only Girl (In the...|Rihanna|                Loud|\n",
            "|      0rdos|Pon De Replay (Re...|Rihanna|    Music of the Sun|\n",
            "|      0rdos|          Now I Know|Rihanna|    Music of the Sun|\n",
            "+-----------+--------------------+-------+--------------------+\n",
            "only showing top 10 rows\n",
            "\n"
          ],
          "name": "stdout"
        }
      ]
    },
    {
      "cell_type": "markdown",
      "metadata": {
        "id": "QzZxR6ELzMTn"
      },
      "source": [
        "**Query #2 :** Top 10 users who are fan of Rihanna"
      ]
    },
    {
      "cell_type": "code",
      "metadata": {
        "colab": {
          "base_uri": "https://localhost:8080/"
        },
        "id": "4ANdlz_qzYo-",
        "outputId": "b49857c4-4712-4ce9-fc80-26aad7542754"
      },
      "source": [
        "q2 = listenings_dataframe\\\n",
        "           .filter(listenings_dataframe.artist=='Rihanna')\\\n",
        "           .groupby('user_id').agg(count('user_id').alias('cnt'))\\\n",
        "           .orderBy(desc('cnt')).limit(10)\n",
        "q2.show()"
      ],
      "execution_count": null,
      "outputs": [
        {
          "output_type": "stream",
          "text": [
            "+---------------+---+\n",
            "|        user_id|cnt|\n",
            "+---------------+---+\n",
            "|        thiessu|179|\n",
            "|    eyessetkyle|166|\n",
            "|           adxx|164|\n",
            "|missnumberthree|156|\n",
            "|helloiamnatalie|128|\n",
            "|          nmjnb|124|\n",
            "|        AndyyyA|123|\n",
            "|     BIGBANG186|121|\n",
            "|     mixedvibes|120|\n",
            "|       AndyKitt|115|\n",
            "+---------------+---+\n",
            "\n"
          ],
          "name": "stdout"
        }
      ]
    },
    {
      "cell_type": "markdown",
      "metadata": {
        "id": "sAIFYgAf5Xbc"
      },
      "source": [
        "**Query #3:** Find top 10 famous tracks"
      ]
    },
    {
      "cell_type": "code",
      "metadata": {
        "colab": {
          "base_uri": "https://localhost:8080/"
        },
        "id": "Wop4Pcd45gqb",
        "outputId": "74a77d87-617b-4e60-80f0-4e081a729677"
      },
      "source": [
        "q3 = listenings_dataframe.select('artist','track')\\\n",
        "                        .groupby('artist','track')\\\n",
        "                        .agg(count('*').alias('cnt'))\\\n",
        "                        .orderBy(desc('cnt')).limit(10)\n",
        "q3.show()"
      ],
      "execution_count": null,
      "outputs": [
        {
          "output_type": "stream",
          "text": [
            "+--------------+-----------------+----+\n",
            "|        artist|            track| cnt|\n",
            "+--------------+-----------------+----+\n",
            "| Justin Bieber|            Sorry|3381|\n",
            "|Arctic Monkeys| Do I Wanna Know?|2865|\n",
            "|      Bon Iver|      Skinny Love|2836|\n",
            "|          Zayn|       PILLOWTALK|2701|\n",
            "|   The Killers|    Mr Brightside|2690|\n",
            "|       Rihanna|             Work|2646|\n",
            "|      Bastille|          Pompeii|2606|\n",
            "|Mumford & Sons|  Little Lion Man|2520|\n",
            "|Mumford & Sons|         The Cave|2485|\n",
            "| Justin Bieber|What Do You Mean?|2481|\n",
            "+--------------+-----------------+----+\n",
            "\n"
          ],
          "name": "stdout"
        }
      ]
    },
    {
      "cell_type": "markdown",
      "metadata": {
        "id": "dHaxS8Cr-l_X"
      },
      "source": [
        "**Query #4 :** Top 10 famous tracks of ***Rihanna*** "
      ]
    },
    {
      "cell_type": "code",
      "metadata": {
        "colab": {
          "base_uri": "https://localhost:8080/"
        },
        "id": "FvBYKmiy-wnv",
        "outputId": "da1b8d51-1060-4885-9c0e-b6631c1c91c1"
      },
      "source": [
        "q4 = listenings_dataframe.select('artist','track')\\\n",
        "                .filter(listenings_dataframe.artist=='Rihanna')\\\n",
        "                .groupby('artist','track')\\\n",
        "                .agg(count('*').alias('cnt'))\\\n",
        "                .orderBy(desc('cnt')).limit(10)\n",
        "q4.show()"
      ],
      "execution_count": null,
      "outputs": [
        {
          "output_type": "stream",
          "text": [
            "+-------+--------------------+----+\n",
            "| artist|               track| cnt|\n",
            "+-------+--------------------+----+\n",
            "|Rihanna|                Work|2646|\n",
            "|Rihanna|Only Girl (In the...|1749|\n",
            "|Rihanna|We Found Love (fe...|1575|\n",
            "|Rihanna|                 S&M|1307|\n",
            "|Rihanna|            Rude Boy|1303|\n",
            "|Rihanna|            Diamonds|1224|\n",
            "|Rihanna|      Kiss it Better| 945|\n",
            "|Rihanna| Where Have You Been| 844|\n",
            "|Rihanna|Cheers (Drink to ...| 697|\n",
            "|Rihanna|           Needed Me| 679|\n",
            "+-------+--------------------+----+\n",
            "\n"
          ],
          "name": "stdout"
        }
      ]
    },
    {
      "cell_type": "markdown",
      "metadata": {
        "id": "xa47A715BkUV"
      },
      "source": [
        "**Query #5 :** famous top 10 albums"
      ]
    },
    {
      "cell_type": "code",
      "metadata": {
        "colab": {
          "base_uri": "https://localhost:8080/"
        },
        "id": "eIN51xAB-lgi",
        "outputId": "c4883ad4-47e7-4f5c-c97a-ca5d0d4cdaeb"
      },
      "source": [
        "q5 = listenings_dataframe.select('artist','album').groupby('artist','album')\\\n",
        "                          .agg(count('*').alias('cnt'))\\\n",
        "                          .orderBy(desc('cnt')).limit(10)\n",
        "q5.show()"
      ],
      "execution_count": null,
      "outputs": [
        {
          "output_type": "stream",
          "text": [
            "+--------------------+--------------------+-----+\n",
            "|              artist|               album|  cnt|\n",
            "+--------------------+--------------------+-----+\n",
            "|          Kanye West|   The Life Of Pablo|22310|\n",
            "|              The xx|                  xx|14195|\n",
            "|      Arctic Monkeys|                  AM|14090|\n",
            "|               alt-J|     An Awesome Wave|13635|\n",
            "|      Mumford & Sons|        Sigh No More|13543|\n",
            "|      Arctic Monkeys|Whatever People S...|12731|\n",
            "|            Bon Iver|            For Emma|11994|\n",
            "|              Grimes|          Art Angels|11655|\n",
            "|Florence + the Ma...|               Lungs|11362|\n",
            "|               Adele|                  21|11215|\n",
            "+--------------------+--------------------+-----+\n",
            "\n"
          ],
          "name": "stdout"
        }
      ]
    },
    {
      "cell_type": "markdown",
      "metadata": {
        "id": "rV1_2yxtEb8K"
      },
      "source": [
        "importing ***genre.csv*** file in spark"
      ]
    },
    {
      "cell_type": "code",
      "metadata": {
        "colab": {
          "base_uri": "https://localhost:8080/"
        },
        "id": "45-ch3eo5eii",
        "outputId": "e6868b85-6170-48cc-f27a-cd32d645125f"
      },
      "source": [
        "genre_dataframe.show(5)"
      ],
      "execution_count": null,
      "outputs": [
        {
          "output_type": "stream",
          "text": [
            "+----------+-----+\n",
            "|    artist|genre|\n",
            "+----------+-----+\n",
            "|      Muse| rock|\n",
            "|   Nirvana| rock|\n",
            "|  Bon Jovi| rock|\n",
            "|The Police| rock|\n",
            "|      Kiss| rock|\n",
            "+----------+-----+\n",
            "only showing top 5 rows\n",
            "\n"
          ],
          "name": "stdout"
        }
      ]
    },
    {
      "cell_type": "code",
      "metadata": {
        "colab": {
          "base_uri": "https://localhost:8080/"
        },
        "id": "UJ9ZVkGHG6U0",
        "outputId": "bf5dc685-4a13-4927-ceeb-3a401ff44b72"
      },
      "source": [
        "data = listenings_dataframe.join(genre_dataframe,how=\"inner\",on=['artist'])\n",
        "data.show(10)"
      ],
      "execution_count": null,
      "outputs": [
        {
          "output_type": "stream",
          "text": [
            "+--------+-----------+--------------------+-----------+--------------------+\n",
            "|  artist|    user_id|               track|      album|               genre|\n",
            "+--------+-----------+--------------------+-----------+--------------------+\n",
            "|Jessie J|000Silenced|           Price Tag|Who You Are| Ariana Grande & ...|\n",
            "|Jessie J|000Silenced|           Price Tag|Who You Are| Jhene Aiko & Rixton|\n",
            "|Jessie J|000Silenced|           Price Tag|Who You Are| Nicki Minaj & Ar...|\n",
            "|Jessie J|000Silenced|           Price Tag|Who You Are|                 pop|\n",
            "|Jessie J|000Silenced|Price Tag (Acoust...|  Price Tag| Ariana Grande & ...|\n",
            "|Jessie J|000Silenced|Price Tag (Acoust...|  Price Tag| Jhene Aiko & Rixton|\n",
            "|Jessie J|000Silenced|Price Tag (Acoust...|  Price Tag| Nicki Minaj & Ar...|\n",
            "|Jessie J|000Silenced|Price Tag (Acoust...|  Price Tag|                 pop|\n",
            "|   Robyn|000Silenced|Be Mine! (Ballad ...|   Be Mine!|                 pop|\n",
            "|   Kelis|000Silenced|            Acapella|   Acapella|                 pop|\n",
            "+--------+-----------+--------------------+-----------+--------------------+\n",
            "only showing top 10 rows\n",
            "\n"
          ],
          "name": "stdout"
        }
      ]
    },
    {
      "cell_type": "markdown",
      "metadata": {
        "id": "aICjXpqdHaso"
      },
      "source": [
        "**Query #6 :** Top 10 users who are fan of pop music"
      ]
    },
    {
      "cell_type": "code",
      "metadata": {
        "colab": {
          "base_uri": "https://localhost:8080/"
        },
        "id": "lY9vsAEqHi4k",
        "outputId": "e7ece682-7c39-4483-ea6d-02f194826250"
      },
      "source": [
        "q6 = data.filter(data.genre=='pop').select('user_id').groupby('user_id')\\\n",
        "         .agg(count('user_id').alias('cnt'))\\\n",
        "         .orderBy(desc('cnt')).limit(10)\n",
        "q6.show()"
      ],
      "execution_count": null,
      "outputs": [
        {
          "output_type": "stream",
          "text": [
            "+---------------+---+\n",
            "|        user_id|cnt|\n",
            "+---------------+---+\n",
            "|        01Green|496|\n",
            "|      momousagi|400|\n",
            "|          mrpsb|400|\n",
            "|   BlueKnockOut|378|\n",
            "|    musicboy80s|376|\n",
            "|  incultojurgis|374|\n",
            "| ElektricOrchid|370|\n",
            "|foreign_fanatic|350|\n",
            "|   Kevin_Soutar|346|\n",
            "|  landrover2171|301|\n",
            "+---------------+---+\n",
            "\n"
          ],
          "name": "stdout"
        }
      ]
    },
    {
      "cell_type": "markdown",
      "metadata": {
        "id": "pj2ZTPP5IZg6"
      },
      "source": [
        "**Query #7 :** Top 10 famous genres"
      ]
    },
    {
      "cell_type": "code",
      "metadata": {
        "colab": {
          "base_uri": "https://localhost:8080/"
        },
        "id": "fvGmWlVxIgqI",
        "outputId": "3efcd885-1021-4d99-dda9-cf6852ff9656"
      },
      "source": [
        "q7 = data.select('genre').groupby('genre').count().orderBy(desc('count')).limit(10)\n",
        "q7.show()"
      ],
      "execution_count": null,
      "outputs": [
        {
          "output_type": "stream",
          "text": [
            "+----------+-------+\n",
            "|     genre|  count|\n",
            "+----------+-------+\n",
            "|      rock|2691934|\n",
            "|       pop|1544747|\n",
            "|electronic| 551509|\n",
            "|   hip hop| 532984|\n",
            "|      folk| 438174|\n",
            "|indie rock| 431439|\n",
            "|      punk| 380915|\n",
            "|       r&b| 344101|\n",
            "|     metal| 208107|\n",
            "|     indie| 206726|\n",
            "+----------+-------+\n",
            "\n"
          ],
          "name": "stdout"
        }
      ]
    },
    {
      "cell_type": "markdown",
      "metadata": {
        "id": "Q2Ma6-IuxG_k"
      },
      "source": [
        "**Query #8 :** Find each user's favorite genre"
      ]
    },
    {
      "cell_type": "code",
      "metadata": {
        "colab": {
          "base_uri": "https://localhost:8080/"
        },
        "id": "HPpJzlpRxQ9f",
        "outputId": "f7b92923-adcf-4fbf-ab4d-36aa9f54170a"
      },
      "source": [
        "q8_1 = data.select('user_id','genre').groupby('user_id','genre')\\\n",
        "      .agg(count('*').alias('cnt'))\\\n",
        "      .orderBy('user_id')\n",
        "q8_1.show(10)"
      ],
      "execution_count": null,
      "outputs": [
        {
          "output_type": "stream",
          "text": [
            "+-------+--------------------+---+\n",
            "|user_id|               genre|cnt|\n",
            "+-------+--------------------+---+\n",
            "| --Seph|           indie pop|  1|\n",
            "| --Seph|               house|  3|\n",
            "| --Seph|   progressive house|  1|\n",
            "| --Seph|           classical| 31|\n",
            "| --Seph| The Ambrosian Si...|  1|\n",
            "| --Seph| Tamás Vásáry & Y...|  1|\n",
            "| --Seph|          electropop|  1|\n",
            "| --Seph|     Jennifer Vyvyan|  1|\n",
            "| --Seph|          Thom Yorke|  2|\n",
            "| --Seph|                soul|  1|\n",
            "+-------+--------------------+---+\n",
            "only showing top 10 rows\n",
            "\n"
          ],
          "name": "stdout"
        }
      ]
    },
    {
      "cell_type": "code",
      "metadata": {
        "colab": {
          "base_uri": "https://localhost:8080/"
        },
        "id": "_E36I057z1NO",
        "outputId": "17a54ca3-6e92-4c35-c849-1bdb39942ac6"
      },
      "source": [
        "q8_2 = q8_1.groupBy('user_id').agg(max(struct(col('cnt'),col('genre'))).alias('max'))\n",
        "q8_2.show(10)"
      ],
      "execution_count": null,
      "outputs": [
        {
          "output_type": "stream",
          "text": [
            "+--------------+-----------------+\n",
            "|       user_id|              max|\n",
            "+--------------+-----------------+\n",
            "|       -Gemma-|{38, british pop}|\n",
            "|       247flix|   {78, synthpop}|\n",
            "|    A3sahaettr|      {60, metal}|\n",
            "|       AYFBlog| {98, indie rock}|\n",
            "| AdamMcSpaddam|       {79, rock}|\n",
            "|       Alukarl|{85, death metal}|\n",
            "|      Ambalina|        {53, pop}|\n",
            "|       AndyEgg|       {54, rock}|\n",
            "|AngerisaGift14|       {58, rock}|\n",
            "|     Anndddyyy|      {116, rock}|\n",
            "+--------------+-----------------+\n",
            "only showing top 10 rows\n",
            "\n"
          ],
          "name": "stdout"
        }
      ]
    },
    {
      "cell_type": "code",
      "metadata": {
        "colab": {
          "base_uri": "https://localhost:8080/"
        },
        "id": "fFlsFuaV2DO-",
        "outputId": "9999e278-ab3b-432c-f7df-7f317a634fac"
      },
      "source": [
        "q8_2.select('user_id','max.genre').show()"
      ],
      "execution_count": null,
      "outputs": [
        {
          "output_type": "stream",
          "text": [
            "+---------------+-----------------+\n",
            "|        user_id|            genre|\n",
            "+---------------+-----------------+\n",
            "|        -Gemma-|      british pop|\n",
            "|        247flix|         synthpop|\n",
            "|     A3sahaettr|            metal|\n",
            "|        AYFBlog|       indie rock|\n",
            "|  AdamMcSpaddam|             rock|\n",
            "|        Alukarl|      death metal|\n",
            "|       Ambalina|              pop|\n",
            "|        AndyEgg|             rock|\n",
            "| AngerisaGift14|             rock|\n",
            "|      Anndddyyy|             rock|\n",
            "|     BasilBrush|             rock|\n",
            "|     BernieLick|             rock|\n",
            "|      Big_Tiger|            indie|\n",
            "|          Birks|singer-songwriter|\n",
            "|         BolaJA|             rock|\n",
            "|        Boone92|        metalcore|\n",
            "|CameronWhittall|              pop|\n",
            "|        Ceolmor|       electronic|\n",
            "| CheeseMonkey91|              emo|\n",
            "|  Chilled-Lemon|             rock|\n",
            "+---------------+-----------------+\n",
            "only showing top 20 rows\n",
            "\n"
          ],
          "name": "stdout"
        }
      ]
    },
    {
      "cell_type": "markdown",
      "metadata": {
        "id": "CvvRZwyz2aTl"
      },
      "source": [
        "**Query #9 :** Find out how many ***rock,pop,hip hop,metals*** singers do we have "
      ]
    },
    {
      "cell_type": "code",
      "metadata": {
        "colab": {
          "base_uri": "https://localhost:8080/"
        },
        "id": "N3Wl8UYa24sg",
        "outputId": "7def03f2-d64f-44a9-ffa1-b4cc2826b5d5"
      },
      "source": [
        "q9 = genre_dataframe.select('genre').filter(lower(col('genre')).isin(['hip hop','rock','pop','metal']))\\\n",
        "                    .groupby('genre').agg(count('*').alias('cnt'))\n",
        "q9.show()"
      ],
      "execution_count": null,
      "outputs": [
        {
          "output_type": "stream",
          "text": [
            "+-------+----+\n",
            "|  genre| cnt|\n",
            "+-------+----+\n",
            "|    pop|6960|\n",
            "|hip hop|4288|\n",
            "|  metal|1854|\n",
            "|   rock|9066|\n",
            "+-------+----+\n",
            "\n"
          ],
          "name": "stdout"
        }
      ]
    },
    {
      "cell_type": "code",
      "metadata": {
        "colab": {
          "base_uri": "https://localhost:8080/"
        },
        "id": "PdtQ_EEo6YIb",
        "outputId": "3c8bb2c3-f1d1-43af-e89d-0ff6a3288e1f"
      },
      "source": [
        "q9.collect()"
      ],
      "execution_count": null,
      "outputs": [
        {
          "output_type": "execute_result",
          "data": {
            "text/plain": [
              "[Row(genre='pop', cnt=6960),\n",
              " Row(genre='hip hop', cnt=4288),\n",
              " Row(genre='metal', cnt=1854),\n",
              " Row(genre='rock', cnt=9066)]"
            ]
          },
          "metadata": {
            "tags": []
          },
          "execution_count": 50
        }
      ]
    },
    {
      "cell_type": "code",
      "metadata": {
        "colab": {
          "base_uri": "https://localhost:8080/"
        },
        "id": "PBTc2t1e6t9L",
        "outputId": "ab20ee74-acec-4d2c-dfd6-e363c419e29f"
      },
      "source": [
        "labels = [e.genre for e in q9.collect()]\n",
        "count = [e.cnt for e in q9.collect()]\n",
        "print(labels)\n",
        "print(count)"
      ],
      "execution_count": null,
      "outputs": [
        {
          "output_type": "stream",
          "text": [
            "['pop', 'hip hop', 'metal', 'rock']\n",
            "[6960, 4288, 1854, 9066]\n"
          ],
          "name": "stdout"
        }
      ]
    },
    {
      "cell_type": "code",
      "metadata": {
        "colab": {
          "base_uri": "https://localhost:8080/",
          "height": 282
        },
        "id": "yEUVXokk7MP2",
        "outputId": "558d969d-b066-45ae-b128-79754687659e"
      },
      "source": [
        "plt.bar(labels,count)"
      ],
      "execution_count": null,
      "outputs": [
        {
          "output_type": "execute_result",
          "data": {
            "text/plain": [
              "<BarContainer object of 4 artists>"
            ]
          },
          "metadata": {
            "tags": []
          },
          "execution_count": 54
        },
        {
          "output_type": "display_data",
          "data": {
            "image/png": "[encoded data removed]",
            "text/plain": [
              "<Figure size 432x288 with 1 Axes>"
            ]
          },
          "metadata": {
            "tags": [],
            "needs_background": "light"
          }
        }
      ]
    }
  ]
}